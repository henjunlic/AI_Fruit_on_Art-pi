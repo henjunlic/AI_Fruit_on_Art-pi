{
 "cells": [
  {
   "cell_type": "code",
   "execution_count": 3,
   "metadata": {},
   "outputs": [],
   "source": [
    "import os\n",
    "os.environ[\"TF_MIN_CPP_LEVEL_LOG\"] = \"2\"\n",
    "import cv2\n",
    "import time\n",
    "import random\n",
    "import numpy as np\n",
    "from tqdm import tqdm\n",
    "from matplotlib import pyplot as plt\n",
    "from pathlib import Path"
   ]
  },
  {
   "cell_type": "code",
   "execution_count": 4,
   "metadata": {},
   "outputs": [
    {
     "data": {
      "text/plain": [
       "'2.5.0'"
      ]
     },
     "execution_count": 4,
     "metadata": {},
     "output_type": "execute_result"
    }
   ],
   "source": [
    "import tensorflow as tf\n",
    "from tensorflow.keras.utils import plot_model\n",
    "from tensorflow.keras.models import load_model\n",
    "from tensorflow.keras.datasets import cifar10\n",
    "from tensorflow.keras.preprocessing.image import ImageDataGenerator\n",
    "from tensorflow.keras.models import Sequential\n",
    "from tensorflow.keras.layers import Dense, Dropout, Activation, Flatten\n",
    "from tensorflow.keras.layers import Conv2D, AveragePooling2D\n",
    "\n",
    "tf.__version__"
   ]
  },
  {
   "cell_type": "code",
   "execution_count": 5,
   "metadata": {},
   "outputs": [],
   "source": [
    "DATADIR = '../Dataset'\n",
    "CATEGORIES = ['AAPitaya','Apple','Banana','Kiwi','Orange','Peach','Pear']\n",
    "IMG_SIZE = 64"
   ]
  },
  {
   "cell_type": "code",
   "execution_count": 6,
   "metadata": {},
   "outputs": [
    {
     "name": "stderr",
     "output_type": "stream",
     "text": [
      "100%|█████████████████████████████████████████████████████████████████████████████| 2501/2501 [00:15<00:00, 160.02it/s]\n",
      "100%|█████████████████████████████████████████████████████████████████████████████| 2296/2296 [00:18<00:00, 124.52it/s]\n",
      "100%|█████████████████████████████████████████████████████████████████████████████| 2033/2033 [00:15<00:00, 131.37it/s]\n",
      "100%|█████████████████████████████████████████████████████████████████████████████| 2170/2170 [00:15<00:00, 137.93it/s]\n",
      "100%|█████████████████████████████████████████████████████████████████████████████| 2051/2051 [00:15<00:00, 130.69it/s]\n",
      "100%|█████████████████████████████████████████████████████████████████████████████| 2034/2034 [00:10<00:00, 189.72it/s]\n",
      "100%|█████████████████████████████████████████████████████████████████████████████| 2151/2151 [00:04<00:00, 441.15it/s]\n"
     ]
    }
   ],
   "source": [
    "def create_training_data():\n",
    "    training_data = []\n",
    "    for category in CATEGORIES:  \n",
    "     \n",
    "        path = os.path.join(DATADIR,category) \n",
    "        class_num = CATEGORIES.index(category)  # get the classification  (0 or a 1). 0=C 1=O\n",
    "\n",
    "        for img in tqdm(os.listdir(path)):  # iterate over each image\n",
    "            try:\n",
    "                img_array = cv2.imread(os.path.join(path,img))  # convert to array\n",
    "                img_array = cv2.cvtColor(img_array, cv2.COLOR_BGR2RGB)\n",
    "                new_array = cv2.resize(img_array, (IMG_SIZE, IMG_SIZE))  # resize to normalize data size\n",
    "                training_data.append([new_array, class_num])  # add this to our training_data\n",
    "            except Exception as e:  # in the interest in keeping the output clean...\n",
    "                pass\n",
    "              \n",
    "    return training_data\n",
    "\n",
    "training_data = create_training_data()"
   ]
  },
  {
   "cell_type": "code",
   "execution_count": 7,
   "metadata": {},
   "outputs": [
    {
     "name": "stdout",
     "output_type": "stream",
     "text": [
      "data numbers: 15236\n"
     ]
    }
   ],
   "source": [
    "print(f\"data numbers: {len(training_data)}\")\n",
    "random.shuffle(training_data)\n",
    "#for sample in training_data:\n",
    "    #print( sample[1],end=\" \")"
   ]
  },
  {
   "cell_type": "code",
   "execution_count": 8,
   "metadata": {},
   "outputs": [
    {
     "data": {
      "text/plain": [
       "6"
      ]
     },
     "execution_count": 8,
     "metadata": {},
     "output_type": "execute_result"
    }
   ],
   "source": [
    "training_data[0][1]"
   ]
  },
  {
   "cell_type": "code",
   "execution_count": 9,
   "metadata": {},
   "outputs": [
    {
     "data": {
      "text/plain": [
       "(15236,)"
      ]
     },
     "execution_count": 9,
     "metadata": {},
     "output_type": "execute_result"
    }
   ],
   "source": [
    "X = []\n",
    "Y = []\n",
    "\n",
    "for features, label in training_data:\n",
    "    X.append(features)\n",
    "    Y.append(label)\n",
    "\n",
    "X = np.array(X).reshape(-1, IMG_SIZE, IMG_SIZE, 3)\n",
    "X = X/255.0\n",
    "\n",
    "Y = np.array(Y)\n",
    "#X.shape\n",
    "Y.shape"
   ]
  },
  {
   "cell_type": "code",
   "execution_count": 10,
   "metadata": {},
   "outputs": [],
   "source": [
    "# # set up image augmentation\n",
    "# from keras.preprocessing.image import ImageDataGenerator\n",
    "\n",
    "# datagen = ImageDataGenerator(\n",
    "#     rotation_range=15,\n",
    "#     horizontal_flip=True,\n",
    "#     width_shift_range=0.1,\n",
    "#     height_shift_range=0.1\n",
    "#     #zoom_range=0.3\n",
    "#     )\n",
    "# datagen.fit(X)"
   ]
  },
  {
   "cell_type": "code",
   "execution_count": null,
   "metadata": {},
   "outputs": [],
   "source": []
  },
  {
   "cell_type": "code",
   "execution_count": 11,
   "metadata": {
    "scrolled": true
   },
   "outputs": [],
   "source": [
    "model = Sequential()\n",
    "\n",
    "model.add(Conv2D(filters=16, kernel_size=(3, 3), activation='relu', input_shape=X.shape[1:]))\n",
    "model.add(AveragePooling2D())\n",
    "model.add(Dropout(0.5))\n",
    "\n",
    "model.add(Conv2D(filters=32, kernel_size=(3, 3), activation='relu'))\n",
    "model.add(AveragePooling2D())\n",
    "model.add(Dropout(0.5))\n",
    "\n",
    "model.add(Conv2D(filters=64, kernel_size=(3, 3), activation='relu'))\n",
    "model.add(AveragePooling2D())\n",
    "model.add(Dropout(0.5))\n",
    "\n",
    "model.add(Flatten())\n",
    "\n",
    "model.add(Dense(units=256, activation='relu'))\n",
    "model.add(Dropout(0.2))\n",
    "\n",
    "model.add(Dense(units=128, activation='relu'))\n",
    "\n",
    "model.add(Dense(units=7, activation = 'softmax')) #unit:分类数量\n",
    "\n",
    "model.compile(loss='sparse_categorical_crossentropy',\n",
    "              optimizer='adam',\n",
    "              metrics=['accuracy'])\n",
    "\n",
    "# model.summary()"
   ]
  },
  {
   "cell_type": "code",
   "execution_count": 12,
   "metadata": {
    "scrolled": true
   },
   "outputs": [
    {
     "name": "stdout",
     "output_type": "stream",
     "text": [
      "Epoch 1/100\n",
      "429/429 [==============================] - 14s 32ms/step - loss: 1.1424 - accuracy: 0.5532 - val_loss: 0.6680 - val_accuracy: 0.7539\n",
      "Epoch 2/100\n",
      "429/429 [==============================] - 13s 31ms/step - loss: 0.4785 - accuracy: 0.8213 - val_loss: 0.3144 - val_accuracy: 0.8878\n",
      "Epoch 3/100\n",
      "429/429 [==============================] - 14s 32ms/step - loss: 0.2983 - accuracy: 0.8898 - val_loss: 0.1525 - val_accuracy: 0.9495\n",
      "Epoch 4/100\n",
      "429/429 [==============================] - 15s 36ms/step - loss: 0.2352 - accuracy: 0.9172 - val_loss: 0.1665 - val_accuracy: 0.9469\n",
      "Epoch 5/100\n",
      "429/429 [==============================] - 14s 33ms/step - loss: 0.1662 - accuracy: 0.9398 - val_loss: 0.1563 - val_accuracy: 0.9488\n",
      "Epoch 6/100\n",
      "429/429 [==============================] - 13s 31ms/step - loss: 0.1550 - accuracy: 0.9452 - val_loss: 0.1461 - val_accuracy: 0.9508\n",
      "Epoch 7/100\n",
      "429/429 [==============================] - 14s 33ms/step - loss: 0.1145 - accuracy: 0.9586 - val_loss: 0.2063 - val_accuracy: 0.9278\n",
      "Epoch 8/100\n",
      "429/429 [==============================] - 15s 34ms/step - loss: 0.1104 - accuracy: 0.9629 - val_loss: 0.1037 - val_accuracy: 0.9705\n",
      "Epoch 9/100\n",
      "429/429 [==============================] - 14s 32ms/step - loss: 0.1099 - accuracy: 0.9605 - val_loss: 0.0895 - val_accuracy: 0.9770\n",
      "Epoch 10/100\n",
      "429/429 [==============================] - 14s 32ms/step - loss: 0.1056 - accuracy: 0.9646 - val_loss: 0.1987 - val_accuracy: 0.9364\n",
      "Epoch 11/100\n",
      "429/429 [==============================] - 15s 34ms/step - loss: 0.0906 - accuracy: 0.9697 - val_loss: 0.0568 - val_accuracy: 0.9856\n",
      "Epoch 12/100\n",
      "429/429 [==============================] - 16s 38ms/step - loss: 0.0971 - accuracy: 0.9675 - val_loss: 0.0736 - val_accuracy: 0.9724\n",
      "Epoch 13/100\n",
      "429/429 [==============================] - 15s 36ms/step - loss: 0.0702 - accuracy: 0.9749 - val_loss: 0.0633 - val_accuracy: 0.9770\n",
      "Epoch 14/100\n",
      "429/429 [==============================] - 14s 33ms/step - loss: 0.0843 - accuracy: 0.9694 - val_loss: 0.0942 - val_accuracy: 0.9744\n",
      "Epoch 15/100\n",
      "429/429 [==============================] - 15s 35ms/step - loss: 0.0639 - accuracy: 0.9778 - val_loss: 0.1084 - val_accuracy: 0.9639\n",
      "Epoch 16/100\n",
      "429/429 [==============================] - 14s 33ms/step - loss: 0.0537 - accuracy: 0.9820 - val_loss: 0.0947 - val_accuracy: 0.9731\n",
      "Epoch 17/100\n",
      "429/429 [==============================] - 14s 33ms/step - loss: 0.0824 - accuracy: 0.9729 - val_loss: 0.0698 - val_accuracy: 0.9829\n",
      "Epoch 18/100\n",
      "429/429 [==============================] - 13s 30ms/step - loss: 0.0562 - accuracy: 0.9802 - val_loss: 0.0547 - val_accuracy: 0.9843\n",
      "Epoch 19/100\n",
      "429/429 [==============================] - 13s 30ms/step - loss: 0.0553 - accuracy: 0.9817 - val_loss: 0.0884 - val_accuracy: 0.9777\n",
      "Epoch 20/100\n",
      "429/429 [==============================] - 13s 30ms/step - loss: 0.0656 - accuracy: 0.9775 - val_loss: 0.1474 - val_accuracy: 0.9685\n",
      "Epoch 21/100\n",
      "429/429 [==============================] - 13s 31ms/step - loss: 0.0472 - accuracy: 0.9840 - val_loss: 0.0656 - val_accuracy: 0.9810\n",
      "Epoch 22/100\n",
      "429/429 [==============================] - 14s 32ms/step - loss: 0.0442 - accuracy: 0.9857 - val_loss: 0.0786 - val_accuracy: 0.9770\n",
      "Epoch 23/100\n",
      "429/429 [==============================] - 13s 31ms/step - loss: 0.0740 - accuracy: 0.9791 - val_loss: 0.0478 - val_accuracy: 0.9836\n",
      "Epoch 24/100\n",
      "429/429 [==============================] - 16s 37ms/step - loss: 0.0383 - accuracy: 0.9873 - val_loss: 0.0956 - val_accuracy: 0.9751\n",
      "Epoch 25/100\n",
      "429/429 [==============================] - 14s 32ms/step - loss: 0.0499 - accuracy: 0.9842 - val_loss: 0.0973 - val_accuracy: 0.9777\n",
      "Epoch 26/100\n",
      "429/429 [==============================] - 15s 36ms/step - loss: 0.0468 - accuracy: 0.9853 - val_loss: 0.0681 - val_accuracy: 0.9797\n",
      "Epoch 27/100\n",
      "429/429 [==============================] - 15s 35ms/step - loss: 0.0555 - accuracy: 0.9816 - val_loss: 0.0443 - val_accuracy: 0.9843\n",
      "Epoch 28/100\n",
      "429/429 [==============================] - 18s 41ms/step - loss: 0.0425 - accuracy: 0.9860 - val_loss: 0.0608 - val_accuracy: 0.9810\n",
      "Epoch 29/100\n",
      "429/429 [==============================] - 17s 41ms/step - loss: 0.0330 - accuracy: 0.9888 - val_loss: 0.0387 - val_accuracy: 0.9888\n",
      "Epoch 30/100\n",
      "429/429 [==============================] - 15s 35ms/step - loss: 0.0357 - accuracy: 0.9882 - val_loss: 0.0342 - val_accuracy: 0.9895\n",
      "Epoch 31/100\n",
      "429/429 [==============================] - 14s 33ms/step - loss: 0.0369 - accuracy: 0.9874 - val_loss: 0.0906 - val_accuracy: 0.9744\n",
      "Epoch 32/100\n",
      "429/429 [==============================] - 14s 32ms/step - loss: 0.0425 - accuracy: 0.9866 - val_loss: 0.0373 - val_accuracy: 0.9869\n",
      "Epoch 33/100\n",
      "429/429 [==============================] - 14s 33ms/step - loss: 0.0357 - accuracy: 0.9883 - val_loss: 0.0775 - val_accuracy: 0.9790\n",
      "Epoch 34/100\n",
      "429/429 [==============================] - 17s 40ms/step - loss: 0.0446 - accuracy: 0.9867 - val_loss: 0.0622 - val_accuracy: 0.9810\n",
      "Epoch 35/100\n",
      "429/429 [==============================] - 15s 34ms/step - loss: 0.0488 - accuracy: 0.9856 - val_loss: 0.1644 - val_accuracy: 0.9606\n",
      "Epoch 36/100\n",
      "429/429 [==============================] - 15s 35ms/step - loss: 0.0349 - accuracy: 0.9873 - val_loss: 0.0508 - val_accuracy: 0.9849\n",
      "Epoch 37/100\n",
      "429/429 [==============================] - 17s 40ms/step - loss: 0.0346 - accuracy: 0.9890 - val_loss: 0.0451 - val_accuracy: 0.9869\n",
      "Epoch 38/100\n",
      "429/429 [==============================] - 16s 38ms/step - loss: 0.0413 - accuracy: 0.9865 - val_loss: 0.0232 - val_accuracy: 0.9921\n",
      "Epoch 39/100\n",
      "429/429 [==============================] - 15s 36ms/step - loss: 0.0249 - accuracy: 0.9921 - val_loss: 0.0836 - val_accuracy: 0.9836\n",
      "Epoch 40/100\n",
      "429/429 [==============================] - 16s 38ms/step - loss: 0.0381 - accuracy: 0.9882 - val_loss: 0.1234 - val_accuracy: 0.9672\n",
      "Epoch 41/100\n",
      "429/429 [==============================] - 16s 38ms/step - loss: 0.0419 - accuracy: 0.9869 - val_loss: 0.0925 - val_accuracy: 0.9757\n",
      "Epoch 42/100\n",
      "429/429 [==============================] - 17s 40ms/step - loss: 0.0227 - accuracy: 0.9918 - val_loss: 0.0778 - val_accuracy: 0.9829\n",
      "Epoch 43/100\n",
      "429/429 [==============================] - 17s 40ms/step - loss: 0.0283 - accuracy: 0.9913 - val_loss: 0.0241 - val_accuracy: 0.9921\n",
      "Epoch 44/100\n",
      "429/429 [==============================] - 14s 33ms/step - loss: 0.0363 - accuracy: 0.9888 - val_loss: 0.2045 - val_accuracy: 0.9554\n",
      "Epoch 45/100\n",
      "429/429 [==============================] - 14s 32ms/step - loss: 0.0302 - accuracy: 0.9910 - val_loss: 0.0640 - val_accuracy: 0.9770\n",
      "Epoch 46/100\n",
      "429/429 [==============================] - 13s 31ms/step - loss: 0.0194 - accuracy: 0.9941 - val_loss: 0.0490 - val_accuracy: 0.9875\n",
      "Epoch 47/100\n",
      "429/429 [==============================] - 13s 31ms/step - loss: 0.0313 - accuracy: 0.9907 - val_loss: 0.0569 - val_accuracy: 0.9843\n",
      "Epoch 48/100\n",
      "429/429 [==============================] - 13s 31ms/step - loss: 0.0342 - accuracy: 0.9897 - val_loss: 0.0663 - val_accuracy: 0.9777\n",
      "Epoch 49/100\n",
      "429/429 [==============================] - 13s 30ms/step - loss: 0.0186 - accuracy: 0.9939 - val_loss: 0.1023 - val_accuracy: 0.9803\n",
      "Epoch 50/100\n",
      "429/429 [==============================] - 14s 32ms/step - loss: 0.0306 - accuracy: 0.9910 - val_loss: 0.0664 - val_accuracy: 0.9790\n",
      "Epoch 51/100\n",
      "429/429 [==============================] - 14s 32ms/step - loss: 0.0320 - accuracy: 0.9912 - val_loss: 0.0574 - val_accuracy: 0.9816\n",
      "Epoch 52/100\n",
      "429/429 [==============================] - 13s 31ms/step - loss: 0.0289 - accuracy: 0.9910 - val_loss: 0.0278 - val_accuracy: 0.9888\n",
      "Epoch 53/100\n",
      "429/429 [==============================] - 13s 31ms/step - loss: 0.0276 - accuracy: 0.9912 - val_loss: 0.0719 - val_accuracy: 0.9836\n",
      "Epoch 54/100\n",
      "429/429 [==============================] - 13s 31ms/step - loss: 0.0400 - accuracy: 0.9895 - val_loss: 0.0397 - val_accuracy: 0.9862\n",
      "Epoch 55/100\n",
      "429/429 [==============================] - 14s 33ms/step - loss: 0.0267 - accuracy: 0.9918 - val_loss: 0.0469 - val_accuracy: 0.9856\n",
      "Epoch 56/100\n",
      "429/429 [==============================] - 14s 32ms/step - loss: 0.0238 - accuracy: 0.9927 - val_loss: 0.0624 - val_accuracy: 0.9816\n",
      "Epoch 57/100\n"
     ]
    },
    {
     "name": "stdout",
     "output_type": "stream",
     "text": [
      "429/429 [==============================] - 13s 31ms/step - loss: 0.0243 - accuracy: 0.9923 - val_loss: 0.1207 - val_accuracy: 0.9751\n",
      "Epoch 58/100\n",
      "429/429 [==============================] - 13s 30ms/step - loss: 0.0323 - accuracy: 0.9907 - val_loss: 0.0456 - val_accuracy: 0.9849\n",
      "Epoch 59/100\n",
      "429/429 [==============================] - 13s 31ms/step - loss: 0.0304 - accuracy: 0.9916 - val_loss: 0.0353 - val_accuracy: 0.9869\n",
      "Epoch 60/100\n",
      "429/429 [==============================] - 13s 31ms/step - loss: 0.0147 - accuracy: 0.9950 - val_loss: 0.0279 - val_accuracy: 0.9915\n",
      "Epoch 61/100\n",
      "429/429 [==============================] - 13s 31ms/step - loss: 0.0376 - accuracy: 0.9890 - val_loss: 0.0340 - val_accuracy: 0.9908\n",
      "Epoch 62/100\n",
      "429/429 [==============================] - 14s 32ms/step - loss: 0.0174 - accuracy: 0.9943 - val_loss: 0.0280 - val_accuracy: 0.9902\n",
      "Epoch 63/100\n",
      "429/429 [==============================] - 14s 34ms/step - loss: 0.0348 - accuracy: 0.9899 - val_loss: 0.0628 - val_accuracy: 0.9823\n",
      "Epoch 64/100\n",
      "429/429 [==============================] - 15s 34ms/step - loss: 0.0339 - accuracy: 0.9915 - val_loss: 0.0642 - val_accuracy: 0.9810\n",
      "Epoch 65/100\n",
      "429/429 [==============================] - 15s 36ms/step - loss: 0.0128 - accuracy: 0.9960 - val_loss: 0.0597 - val_accuracy: 0.9829\n",
      "Epoch 66/100\n",
      "429/429 [==============================] - 13s 30ms/step - loss: 0.0234 - accuracy: 0.9929 - val_loss: 0.0292 - val_accuracy: 0.9895\n",
      "Epoch 67/100\n",
      "429/429 [==============================] - 15s 34ms/step - loss: 0.0182 - accuracy: 0.9942 - val_loss: 0.0795 - val_accuracy: 0.9816\n",
      "Epoch 68/100\n",
      "429/429 [==============================] - 15s 36ms/step - loss: 0.0205 - accuracy: 0.9943 - val_loss: 0.0972 - val_accuracy: 0.9790\n",
      "Epoch 69/100\n",
      "429/429 [==============================] - 15s 34ms/step - loss: 0.0296 - accuracy: 0.9913 - val_loss: 0.0337 - val_accuracy: 0.9915\n",
      "Epoch 70/100\n",
      "429/429 [==============================] - 17s 40ms/step - loss: 0.0174 - accuracy: 0.9947 - val_loss: 0.0503 - val_accuracy: 0.9934\n",
      "Epoch 71/100\n",
      "429/429 [==============================] - 17s 39ms/step - loss: 0.0325 - accuracy: 0.9900 - val_loss: 0.0557 - val_accuracy: 0.9908\n",
      "Epoch 72/100\n",
      "429/429 [==============================] - 18s 41ms/step - loss: 0.0182 - accuracy: 0.9945 - val_loss: 0.0348 - val_accuracy: 0.9928\n",
      "Epoch 73/100\n",
      "429/429 [==============================] - 15s 35ms/step - loss: 0.0204 - accuracy: 0.9937 - val_loss: 0.0473 - val_accuracy: 0.9875\n",
      "Epoch 74/100\n",
      "429/429 [==============================] - 13s 30ms/step - loss: 0.0415 - accuracy: 0.9885 - val_loss: 0.1051 - val_accuracy: 0.9777\n",
      "Epoch 75/100\n",
      "429/429 [==============================] - 13s 31ms/step - loss: 0.0201 - accuracy: 0.9938 - val_loss: 0.0816 - val_accuracy: 0.9823\n",
      "Epoch 76/100\n",
      "429/429 [==============================] - 14s 32ms/step - loss: 0.0268 - accuracy: 0.9915 - val_loss: 0.0588 - val_accuracy: 0.9836\n",
      "Epoch 77/100\n",
      "429/429 [==============================] - 14s 33ms/step - loss: 0.0231 - accuracy: 0.9933 - val_loss: 0.0657 - val_accuracy: 0.9823\n",
      "Epoch 78/100\n",
      "429/429 [==============================] - 14s 33ms/step - loss: 0.0195 - accuracy: 0.9948 - val_loss: 0.0362 - val_accuracy: 0.9875\n",
      "Epoch 79/100\n",
      "429/429 [==============================] - 14s 32ms/step - loss: 0.0388 - accuracy: 0.9904 - val_loss: 0.0431 - val_accuracy: 0.9902\n",
      "Epoch 80/100\n",
      "429/429 [==============================] - 15s 34ms/step - loss: 0.0125 - accuracy: 0.9956 - val_loss: 0.1001 - val_accuracy: 0.9790\n",
      "Epoch 81/100\n",
      "429/429 [==============================] - 15s 36ms/step - loss: 0.0193 - accuracy: 0.9939 - val_loss: 0.1235 - val_accuracy: 0.9770\n",
      "Epoch 82/100\n",
      "429/429 [==============================] - 20s 47ms/step - loss: 0.0165 - accuracy: 0.9943 - val_loss: 0.0873 - val_accuracy: 0.9836\n",
      "Epoch 83/100\n",
      "429/429 [==============================] - 19s 45ms/step - loss: 0.0233 - accuracy: 0.9924 - val_loss: 0.1409 - val_accuracy: 0.9724\n",
      "Epoch 84/100\n",
      "429/429 [==============================] - 18s 43ms/step - loss: 0.0302 - accuracy: 0.9918 - val_loss: 0.0291 - val_accuracy: 0.9908\n",
      "Epoch 85/100\n",
      "429/429 [==============================] - 24s 57ms/step - loss: 0.0134 - accuracy: 0.9953 - val_loss: 0.0472 - val_accuracy: 0.9908\n",
      "Epoch 86/100\n",
      "429/429 [==============================] - 15s 35ms/step - loss: 0.0153 - accuracy: 0.9953 - val_loss: 0.0629 - val_accuracy: 0.9843\n",
      "Epoch 87/100\n",
      "429/429 [==============================] - 15s 34ms/step - loss: 0.0205 - accuracy: 0.9941 - val_loss: 0.0554 - val_accuracy: 0.9829\n",
      "Epoch 88/100\n",
      "429/429 [==============================] - 15s 36ms/step - loss: 0.0239 - accuracy: 0.9926 - val_loss: 0.0771 - val_accuracy: 0.9823\n",
      "Epoch 89/100\n",
      "429/429 [==============================] - 15s 36ms/step - loss: 0.0211 - accuracy: 0.9929 - val_loss: 0.0762 - val_accuracy: 0.9843\n",
      "Epoch 90/100\n",
      "429/429 [==============================] - 16s 36ms/step - loss: 0.0360 - accuracy: 0.9895 - val_loss: 0.1284 - val_accuracy: 0.9738\n",
      "Epoch 91/100\n",
      "429/429 [==============================] - 15s 36ms/step - loss: 0.0153 - accuracy: 0.9956 - val_loss: 0.0479 - val_accuracy: 0.9849\n",
      "Epoch 92/100\n",
      "429/429 [==============================] - 16s 37ms/step - loss: 0.0526 - accuracy: 0.9893 - val_loss: 0.0327 - val_accuracy: 0.9895\n",
      "Epoch 93/100\n",
      "429/429 [==============================] - 25s 57ms/step - loss: 0.0155 - accuracy: 0.9952 - val_loss: 0.0344 - val_accuracy: 0.9888\n",
      "Epoch 94/100\n",
      "429/429 [==============================] - 18s 43ms/step - loss: 0.0165 - accuracy: 0.9947 - val_loss: 0.0427 - val_accuracy: 0.9862\n",
      "Epoch 95/100\n",
      "429/429 [==============================] - 15s 34ms/step - loss: 0.0140 - accuracy: 0.9957 - val_loss: 0.0402 - val_accuracy: 0.9875\n",
      "Epoch 96/100\n",
      "429/429 [==============================] - 14s 32ms/step - loss: 0.0235 - accuracy: 0.9921 - val_loss: 0.0722 - val_accuracy: 0.9829\n",
      "Epoch 97/100\n",
      "429/429 [==============================] - 14s 32ms/step - loss: 0.0263 - accuracy: 0.9929 - val_loss: 0.1463 - val_accuracy: 0.9652\n",
      "Epoch 98/100\n",
      "429/429 [==============================] - 14s 32ms/step - loss: 0.0173 - accuracy: 0.9957 - val_loss: 0.0535 - val_accuracy: 0.9856\n",
      "Epoch 99/100\n",
      "429/429 [==============================] - 14s 33ms/step - loss: 0.0170 - accuracy: 0.9949 - val_loss: 0.0389 - val_accuracy: 0.9895\n",
      "Epoch 100/100\n",
      "429/429 [==============================] - 14s 33ms/step - loss: 0.0157 - accuracy: 0.9945 - val_loss: 0.0451 - val_accuracy: 0.9875\n"
     ]
    }
   ],
   "source": [
    "history = model.fit(X, Y, batch_size=32, epochs=100, validation_split=0.1)\n",
    "#model.fit_generator(datagen.flow(X, Y, batch_size=32),\n",
    "                  #epochs=100,\n",
    "                   #verbose=1)\n"
   ]
  },
  {
   "cell_type": "code",
   "execution_count": 13,
   "metadata": {},
   "outputs": [],
   "source": [
    "model.save('../Models/fruit_final_1.h5')"
   ]
  },
  {
   "cell_type": "code",
   "execution_count": 14,
   "metadata": {},
   "outputs": [],
   "source": [
    "# 单个测试样本数据\n",
    "test_path = \"../Images/test.jpg\"\n",
    "image = cv2.imread(test_path)\n",
    "image = cv2.resize(image, (64, 64))\n",
    "image = cv2.cvtColor(image, cv2.COLOR_BGR2RGB)\n",
    "image_bn = image.astype(\"float32\") / 255.0\n",
    "image = np.expand_dims(image, axis=0)\n",
    "image_bn = np.expand_dims(image_bn, axis=0)"
   ]
  },
  {
   "cell_type": "code",
   "execution_count": 15,
   "metadata": {
    "scrolled": true
   },
   "outputs": [
    {
     "name": "stdout",
     "output_type": "stream",
     "text": [
      "prediction: [[0.0000000e+00 0.0000000e+00 4.6143628e-32 0.0000000e+00 1.0000000e+00\n",
      "  0.0000000e+00 0.0000000e+00]]\n",
      "time: 95.697ms\n",
      "model size: 7.47 MB\n"
     ]
    }
   ],
   "source": [
    "# 恢复 keras 模型，并预测\n",
    "keras_file = '../Models/fruit_final_1.h5'\n",
    "model = tf.keras.models.load_model(keras_file)\n",
    "# model.summary()\n",
    "# tf.autograph.set_verbosity(0)\n",
    "\n",
    "start_time = time.time()\n",
    "pred = model.predict(image_bn)\n",
    "stop_time = time.time()\n",
    "\n",
    "print(f\"prediction: {pred}\")\n",
    "print('time: {:.3f}ms'.format((stop_time - start_time) * 1000))\n",
    "print(\"model size: {:.2f} MB\".format(os.path.getsize(keras_file)/1024/1024))"
   ]
  },
  {
   "cell_type": "code",
   "execution_count": 16,
   "metadata": {},
   "outputs": [
    {
     "name": "stdout",
     "output_type": "stream",
     "text": [
      "INFO:tensorflow:Assets written to: C:\\Users\\Matttt\\AppData\\Local\\Temp\\tmpjr6jyegv\\assets\n"
     ]
    },
    {
     "name": "stderr",
     "output_type": "stream",
     "text": [
      "WARNING:absl:For model inputs containing unsupported operations which cannot be quantized, the `inference_input_type` attribute will default to the original type.\n"
     ]
    },
    {
     "data": {
      "text/plain": [
       "657096"
      ]
     },
     "execution_count": 16,
     "metadata": {},
     "output_type": "execute_result"
    }
   ],
   "source": [
    "# quantize int\n",
    "\n",
    "def representative_data_gen():\n",
    "  for input_value in X[:100]:\n",
    "    input_value = np.expand_dims(input_value, axis=0)\n",
    "    input_value = input_value.astype(np.float32)\n",
    "    yield [input_value]\n",
    "\n",
    "converter = tf.lite.TFLiteConverter.from_keras_model(model)\n",
    "converter.optimizations = [tf.lite.Optimize.DEFAULT]\n",
    "converter.representative_dataset = representative_data_gen\n",
    "# Ensure that if any ops can't be quantized, the converter throws an error\n",
    "converter.target_spec.supported_ops = [tf.lite.OpsSet.TFLITE_BUILTINS_INT8]\n",
    "# Set the input and output tensors to uint8 (APIs added in r2.3)\n",
    "converter.inference_input_type = tf.uint8\n",
    "converter.inference_output_type = tf.uint8\n",
    "\n",
    "tflite_model = converter.convert()\n",
    "\n",
    "tflite_file = Path(\"../Models/Tflites/fruit_final_1.tflite\")\n",
    "tflite_file.write_bytes(tflite_model)"
   ]
  },
  {
   "cell_type": "code",
   "execution_count": 17,
   "metadata": {},
   "outputs": [
    {
     "data": {
      "image/png": "[encoded data removed]",
      "text/plain": [
       "<Figure size 432x288 with 1 Axes>"
      ]
     },
     "metadata": {
      "needs_background": "light"
     },
     "output_type": "display_data"
    }
   ],
   "source": [
    "plt.plot(history.history['loss'])\n",
    "plt.plot(history.history['val_loss'])\n",
    "plt.title('model loss')\n",
    "plt.ylabel('loss')\n",
    "plt.xlabel('epoch')\n",
    "plt.legend(['train', 'validation'], loc='upper left')\n",
    "plt.show()"
   ]
  },
  {
   "cell_type": "code",
   "execution_count": 18,
   "metadata": {},
   "outputs": [
    {
     "data": {
      "image/png": "[encoded data removed]",
      "text/plain": [
       "<Figure size 432x288 with 1 Axes>"
      ]
     },
     "metadata": {
      "needs_background": "light"
     },
     "output_type": "display_data"
    }
   ],
   "source": [
    "\n",
    "plt.plot(history.history['accuracy'])\n",
    "plt.plot(history.history['val_accuracy'])\n",
    "plt.title('model accuracy')\n",
    "plt.ylabel('accuracy')\n",
    "plt.xlabel('epoch')\n",
    "plt.legend(['train', 'validation'], loc='upper left')\n",
    "plt.show()"
   ]
  },
  {
   "cell_type": "code",
   "execution_count": 19,
   "metadata": {
    "scrolled": true
   },
   "outputs": [],
   "source": [
    "# plot_model(model, to_file='model_small.png', show_layer_names=False, show_shapes=True)"
   ]
  },
  {
   "cell_type": "code",
   "execution_count": 20,
   "metadata": {},
   "outputs": [
    {
     "name": "stdout",
     "output_type": "stream",
     "text": [
      "(100, 64, 64, 3)\n"
     ]
    }
   ],
   "source": [
    "print(X[:100].shape)"
   ]
  },
  {
   "cell_type": "code",
   "execution_count": 21,
   "metadata": {},
   "outputs": [
    {
     "name": "stdout",
     "output_type": "stream",
     "text": [
      "input:  <class 'numpy.uint8'>\n",
      "output:  <class 'numpy.uint8'>\n"
     ]
    }
   ],
   "source": [
    "interpreter = tf.lite.Interpreter(model_content=tflite_model)\n",
    "input_type = interpreter.get_input_details()[0]['dtype']\n",
    "print('input: ', input_type)\n",
    "output_type = interpreter.get_output_details()[0]['dtype']\n",
    "print('output: ', output_type)"
   ]
  },
  {
   "cell_type": "code",
   "execution_count": 22,
   "metadata": {},
   "outputs": [
    {
     "name": "stdout",
     "output_type": "stream",
     "text": [
      "prediction: [[  0   0   0   0 255   0   0]]\n",
      "time: 52.570ms\n",
      "model size: 0.63 MB\n"
     ]
    }
   ],
   "source": [
    "# tflite 模型推理\n",
    "tflite_file = Path(\"../Models/Tflites/fruit_final_1.tflite\")\n",
    "interpreter = tf.lite.Interpreter(model_path=str(tflite_file))\n",
    "interpreter.allocate_tensors()\n",
    "\n",
    "# Get input and output tensors.\n",
    "input_details = interpreter.get_input_details()[0]\n",
    "output_details = interpreter.get_output_details()[0]\n",
    "\n",
    "interpreter.set_tensor(input_details['index'], image)\n",
    "\n",
    "start_time = time.time()\n",
    "interpreter.invoke()\n",
    "stop_time = time.time()\n",
    "\n",
    "output_data = interpreter.get_tensor(output_details['index'])\n",
    "print(f\"prediction: {output_data}\")\n",
    "print('time: {:.3f}ms'.format((stop_time - start_time) * 1000))\n",
    "print(\"model size: {:.2f} MB\".format(os.path.getsize(tflite_file)/1024/1024))"
   ]
  },
  {
   "cell_type": "code",
   "execution_count": null,
   "metadata": {},
   "outputs": [],
   "source": []
  },
  {
   "cell_type": "code",
   "execution_count": null,
   "metadata": {},
   "outputs": [],
   "source": []
  }
 ],
 "metadata": {
  "kernelspec": {
   "display_name": "Python 3",
   "language": "python",
   "name": "python3"
  },
  "language_info": {
   "codemirror_mode": {
    "name": "ipython",
    "version": 3
   },
   "file_extension": ".py",
   "mimetype": "text/x-python",
   "name": "python",
   "nbconvert_exporter": "python",
   "pygments_lexer": "ipython3",
   "version": "3.8.8"
  }
 },
 "nbformat": 4,
 "nbformat_minor": 2
}
